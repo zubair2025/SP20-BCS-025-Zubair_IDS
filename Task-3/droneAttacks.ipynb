{
 "cells": [
  {
   "cell_type": "code",
   "execution_count": null,
   "metadata": {},
   "outputs": [],
   "source": [
    "#Install Geopandas Library\n",
    "!pip install geopandas\n",
    "\n",
    "#Install Mapclassify Library\n",
    "!pip install mapclassify\n",
    "\n",
    "#Import Libraries\n",
    "import geopandas as gpd\n",
    "import pandas as pd\n",
    "\n",
    "#Reference\n",
    "#https://www.newamerica.org/international-security/reports/americas-counterterrorism-wars/the-drone-war-in-pakistan/\n",
    "#https://docs.google.com/spreadsheets/d/1nHZopMQpvDO1ETpMVP6ZJ22wk3fHRgB00sekIvqXB_c/pubhtml?gid=1648546042#\n",
    "\n",
    "#Load the dataset into the Pandas dataframe\n",
    "df = pd.read_csv('droneLocations.csv')\n",
    "\n",
    "#Load world map file\n",
    "world = gpd.read_file(gpd.datasets.get_path(\"naturalearth_lowres\"))\n",
    "\n",
    "#Plot co-ordinates values\n",
    "dronesmap = gpd.GeoDataFrame(df, geometry=gpd.points_from_xy(x=df.Longitude, y=df.Latitude))\n",
    "dronesmap.plot()\n",
    "\n",
    "#Plot co-ordinates values on the map\n",
    "displaymap = dronesmap.set_crs(epsg=4326)\n",
    "displaymap.crs\n",
    "displaymap.explore()"
   ]
  }
 ],
 "metadata": {
  "kernelspec": {
   "display_name": "Python 3.10.7 64-bit",
   "language": "python",
   "name": "python3"
  },
  "language_info": {
   "codemirror_mode": {
    "name": "ipython",
    "version": 3
   },
   "file_extension": ".py",
   "mimetype": "text/x-python",
   "name": "python",
   "nbconvert_exporter": "python",
   "pygments_lexer": "ipython3",
   "version": "3.10.7"
  },
  "orig_nbformat": 4,
  "vscode": {
   "interpreter": {
    "hash": "6e543d3b4df1f0849e1abef2722baf038a3f41b5295edff6eb18b9a849ea7456"
   }
  }
 },
 "nbformat": 4,
 "nbformat_minor": 2
}
