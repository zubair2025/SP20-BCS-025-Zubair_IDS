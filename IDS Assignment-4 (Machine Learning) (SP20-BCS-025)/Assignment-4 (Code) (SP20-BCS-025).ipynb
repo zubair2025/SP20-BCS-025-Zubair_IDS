{
 "cells": [
  {
   "attachments": {},
   "cell_type": "markdown",
   "metadata": {},
   "source": [
    "# Question No. 2:"
   ]
  },
  {
   "cell_type": "code",
   "execution_count": null,
   "metadata": {},
   "outputs": [],
   "source": [
    "#Importing Libraries\n",
    "from sklearn import preprocessing\n",
    "import pandas as pd\n",
    "\n",
    "#Importing ML Classifiers\n",
    "from sklearn.ensemble import RandomForestClassifier\n",
    "from sklearn.svm import SVC\n",
    "from sklearn.neural_network import MLPClassifier\n",
    "from sklearn.tree import DecisionTreeClassifier\n",
    "from sklearn.naive_bayes import GaussianNB\n",
    "\n",
    "from sklearn.model_selection import ShuffleSplit\n",
    "from sklearn.model_selection import LeavePOut\n",
    "from sklearn import preprocessing\n",
    "\n",
    "#Importing ML Evaluation Metrics\n",
    "from sklearn.metrics import accuracy_score, precision_score, recall_score, f1_score\n",
    "from sklearn.model_selection import train_test_split\n",
    "from sklearn import metrics, model_selection\n",
    "from sklearn.model_selection import cross_val_predict, cross_val_score\n",
    "\n",
    "#Import scikitplot to Plot Confusion Matrix\n",
    "import scikitplot as skplt"
   ]
  },
  {
   "cell_type": "code",
   "execution_count": null,
   "metadata": {},
   "outputs": [],
   "source": [
    "data = pd.read_csv('./gender-prediction.csv')\n",
    "data.head()"
   ]
  },
  {
   "cell_type": "code",
   "execution_count": null,
   "metadata": {},
   "outputs": [],
   "source": [
    "#Converting Strings into Numbers\n",
    "labels = preprocessing.LabelEncoder()\n",
    "\n",
    "beard_en = labels.fit_transform(data.beard)\n",
    "hair_length_en = labels.fit_transform(data.hair_length)\n",
    "scarf_en = labels.fit_transform(data.scarf)\n",
    "eye_color_en = labels.fit_transform(data.eye_color)\n",
    "gender_en = labels.fit_transform(data.gender)"
   ]
  },
  {
   "cell_type": "code",
   "execution_count": null,
   "metadata": {},
   "outputs": [],
   "source": [
    "data_c = data.drop(['beard','hair_length','scarf','eye_color','gender'],axis=1)\n",
    "data_c.head()"
   ]
  },
  {
   "cell_type": "code",
   "execution_count": null,
   "metadata": {},
   "outputs": [],
   "source": [
    "#Combining Data into Single List of Tuples\n",
    "X = list(zip(data_c.height, data_c.weight, beard_en, hair_length_en, data_c.shoe_size, scarf_en, eye_color_en))\n",
    "Y = gender_en\n",
    "\n",
    "X"
   ]
  },
  {
   "cell_type": "code",
   "execution_count": null,
   "metadata": {},
   "outputs": [],
   "source": [
    "def applyML(X, Y, testSize, model):\n",
    "    X_train, x_test, Y_train, y_test = train_test_split(X, Y, test_size = testSize, random_state=42)\n",
    "\n",
    "    model.fit(X_train, Y_train)\n",
    "    prediction = model.predict(x_test)\n",
    "\n",
    "    #classification report\n",
    "    model_cl_rep = metrics.classification_report(y_test, prediction)\n",
    "    print(\"\\nClassification Report:\\n\", model_cl_rep)\n",
    "\n",
    "    #confusion matrix\n",
    "    model_cm = metrics.confusion_matrix(y_test, prediction)\n",
    "    print(\"\\nConfusion Matrix:\\n\", model_cm)\n",
    "\n",
    "    #accuracy\n",
    "    model_acc = accuracy_score(y_test, prediction)*100\n",
    "    print(\"\\nAccuracy:\\n\", model_acc)\n",
    "    \n",
    "    #f1_score\n",
    "    model_f1 = f1_score(y_test, prediction)*100\n",
    "    print(\"\\nF1_Score:\\n\", model_f1)\n",
    "    "
   ]
  },
  {
   "attachments": {},
   "cell_type": "markdown",
   "metadata": {},
   "source": [
    "Random Forest"
   ]
  },
  {
   "cell_type": "code",
   "execution_count": null,
   "metadata": {},
   "outputs": [],
   "source": [
    "model = RandomForestClassifier()"
   ]
  },
  {
   "cell_type": "code",
   "execution_count": null,
   "metadata": {},
   "outputs": [],
   "source": [
    "#Using 67% - 33% train-test split\n",
    "applyML(X, Y, 0.33, model)"
   ]
  },
  {
   "cell_type": "code",
   "execution_count": null,
   "metadata": {},
   "outputs": [],
   "source": [
    "#Using 80% - 20% train-test split\n",
    "applyML(X, Y, 0.20, model)"
   ]
  },
  {
   "cell_type": "code",
   "execution_count": null,
   "metadata": {},
   "outputs": [],
   "source": [
    "#Removing beard and scarf\n",
    "X_new = list(zip(data_c.height, data_c.weight, hair_length_en, data_c.shoe_size, eye_color_en))\n",
    "\n",
    "applyML(X_new, Y, 0.20, model)"
   ]
  },
  {
   "attachments": {},
   "cell_type": "markdown",
   "metadata": {},
   "source": [
    "Support Vector Machines"
   ]
  },
  {
   "cell_type": "code",
   "execution_count": null,
   "metadata": {},
   "outputs": [],
   "source": [
    "model = SVC()"
   ]
  },
  {
   "cell_type": "code",
   "execution_count": null,
   "metadata": {},
   "outputs": [],
   "source": [
    "#Using 67% - 33% train-test split\n",
    "applyML(X, Y, 0.33, model)"
   ]
  },
  {
   "cell_type": "code",
   "execution_count": null,
   "metadata": {},
   "outputs": [],
   "source": [
    "#Using 80% - 20% train-test split\n",
    "applyML(X, Y, 0.20, model)"
   ]
  },
  {
   "cell_type": "code",
   "execution_count": null,
   "metadata": {},
   "outputs": [],
   "source": [
    "#Removing beard and scarf\n",
    "X_new = list(zip(data_c.height, data_c.weight, hair_length_en, data_c.shoe_size, eye_color_en))\n",
    "\n",
    "applyML(X_new, Y, 0.20, model)"
   ]
  },
  {
   "attachments": {},
   "cell_type": "markdown",
   "metadata": {},
   "source": [
    "Multilayer Perceptron Classification"
   ]
  },
  {
   "cell_type": "code",
   "execution_count": null,
   "metadata": {},
   "outputs": [],
   "source": [
    "model = MLPClassifier()"
   ]
  },
  {
   "cell_type": "code",
   "execution_count": null,
   "metadata": {},
   "outputs": [],
   "source": [
    "applyML(X_new, Y, 0.33, model)"
   ]
  },
  {
   "cell_type": "code",
   "execution_count": null,
   "metadata": {},
   "outputs": [],
   "source": [
    "#Using 80% - 20% train-test split\n",
    "applyML(X, Y, 0.20, model)"
   ]
  },
  {
   "cell_type": "code",
   "execution_count": null,
   "metadata": {},
   "outputs": [],
   "source": [
    "#Removing beard and scarf\n",
    "X_new = list(zip(data_c.height, data_c.weight, hair_length_en, data_c.shoe_size, eye_color_en))\n",
    "\n",
    "applyML(X_new, Y, 0.20, model)"
   ]
  },
  {
   "attachments": {},
   "cell_type": "markdown",
   "metadata": {},
   "source": [
    "# Question No. 3:"
   ]
  },
  {
   "cell_type": "code",
   "execution_count": null,
   "metadata": {},
   "outputs": [],
   "source": [
    "model = DecisionTreeClassifier()"
   ]
  },
  {
   "attachments": {},
   "cell_type": "markdown",
   "metadata": {},
   "source": [
    "### Monte Carlo"
   ]
  },
  {
   "cell_type": "code",
   "execution_count": null,
   "metadata": {},
   "outputs": [],
   "source": [
    "X_pp = preprocessing.StandardScaler().fit(X).transform(X)"
   ]
  },
  {
   "cell_type": "code",
   "execution_count": null,
   "metadata": {},
   "outputs": [],
   "source": [
    "ss = ShuffleSplit(n_splits = 3, test_size = 0.67)\n",
    "ss.get_n_splits(X_pp, Y)"
   ]
  },
  {
   "cell_type": "code",
   "execution_count": null,
   "metadata": {},
   "outputs": [],
   "source": [
    "f1_score = cross_val_score(model, X, Y, scoring = \"f1\", cv = ss)\n",
    "\n",
    "avg = (sum(f1_score) / len(f1_score))\n",
    "print(\"\\n F1_Scores: \\n\", f1_score)\n",
    "print(\"\\n Average F1_Score: \\n\", avg)"
   ]
  },
  {
   "attachments": {},
   "cell_type": "markdown",
   "metadata": {},
   "source": [
    "### Leave p out"
   ]
  },
  {
   "cell_type": "code",
   "execution_count": null,
   "metadata": {},
   "outputs": [],
   "source": [
    "lpo = LeavePOut(3)\n",
    "lpo.get_n_splits(X, Y)\n",
    "\n",
    "f1_score = cross_val_score(model, X, Y, scoring = \"f1\", cv = lpo)"
   ]
  },
  {
   "cell_type": "code",
   "execution_count": null,
   "metadata": {},
   "outputs": [],
   "source": [
    "avg = (sum(f1_score) / len(f1_score))\n",
    "print(\"\\n F1_Scores: \\n\", f1_score)\n",
    "print(\"\\n Average F1_Score: \\n\", avg)"
   ]
  },
  {
   "attachments": {},
   "cell_type": "markdown",
   "metadata": {},
   "source": [
    "# Question No. 4:"
   ]
  },
  {
   "cell_type": "code",
   "execution_count": null,
   "metadata": {},
   "outputs": [],
   "source": [
    "sample_data = pd.read_csv('./sampledata-q4.csv')\n",
    "sample_data.tail()"
   ]
  },
  {
   "cell_type": "code",
   "execution_count": null,
   "metadata": {},
   "outputs": [],
   "source": [
    "#Converting Strings into Numbers\n",
    "labels = preprocessing.LabelEncoder()\n",
    "\n",
    "beard_en = labels.fit_transform(sample_data.beard)\n",
    "hair_length_en = labels.fit_transform(sample_data.hair_length)\n",
    "scarf_en = labels.fit_transform(sample_data.scarf)\n",
    "eye_color_en = labels.fit_transform(sample_data.eye_color)\n",
    "gender_en = labels.fit_transform(sample_data.gender)"
   ]
  },
  {
   "cell_type": "code",
   "execution_count": null,
   "metadata": {},
   "outputs": [],
   "source": [
    "data_c = sample_data.drop(['beard','hair_length','scarf','eye_color','gender'],axis=1)"
   ]
  },
  {
   "cell_type": "code",
   "execution_count": null,
   "metadata": {},
   "outputs": [],
   "source": [
    "#Combining Data into Single List of Tuples\n",
    "X = list(zip(data_c.height, data_c.weight, beard_en, hair_length_en, data_c.shoe_size, scarf_en, eye_color_en))\n",
    "Y = gender_en"
   ]
  },
  {
   "cell_type": "code",
   "execution_count": null,
   "metadata": {},
   "outputs": [],
   "source": [
    "model = GaussianNB()"
   ]
  },
  {
   "cell_type": "code",
   "execution_count": null,
   "metadata": {},
   "outputs": [],
   "source": [
    "X_train, X_test, y_train, y_test = train_test_split(X, Y, test_size=0.33)\n",
    "\n",
    "model.fit(X_train, y_train)  \n",
    "prediction = model.predict(X_test)\n",
    "\n",
    "#Classification Report\n",
    "model_cl_rep = metrics.classification_report(y_test, prediction)\n",
    "print(\"\\nClassification Report:\\n\", model_cl_rep)\n",
    "\n",
    "#Confusion Matrix\n",
    "model_cm = metrics.confusion_matrix(y_test, prediction)\n",
    "print(\"\\nConfusion Matrix:\\n\", model_cm)\n",
    "\n",
    "#Accuracy\n",
    "model_acc = accuracy_score(y_test, prediction)*100\n",
    "print(\"\\nAccuracy:\\n\", model_acc)\n",
    "\n",
    "#Precision\n",
    "model_pre = precision_score(y_test, prediction)*100\n",
    "print(\"\\nPrecision:\\n\", model_pre)\n",
    "\n",
    "#Recall\n",
    "model_rec = recall_score(y_test, prediction)*100\n",
    "print(\"\\nRecall:\\n\", model_rec)"
   ]
  }
 ],
 "metadata": {
  "kernelspec": {
   "display_name": "Python 3",
   "language": "python",
   "name": "python3"
  },
  "language_info": {
   "codemirror_mode": {
    "name": "ipython",
    "version": 3
   },
   "file_extension": ".py",
   "mimetype": "text/x-python",
   "name": "python",
   "nbconvert_exporter": "python",
   "pygments_lexer": "ipython3",
   "version": "3.10.2"
  },
  "orig_nbformat": 4,
  "vscode": {
   "interpreter": {
    "hash": "369f2c481f4da34e4445cda3fffd2e751bd1c4d706f27375911949ba6bb62e1c"
   }
  }
 },
 "nbformat": 4,
 "nbformat_minor": 2
}
