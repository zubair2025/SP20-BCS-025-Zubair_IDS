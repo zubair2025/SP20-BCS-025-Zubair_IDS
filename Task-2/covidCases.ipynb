{
 "cells": [
  {
   "cell_type": "code",
   "execution_count": null,
   "metadata": {},
   "outputs": [],
   "source": [
    "#Import Libraries\n",
    "import folium\n",
    "import pandas as pd\n",
    "\n",
    "#Create a map on Pakistan location\n",
    "pakistan_map = folium.Map(location=[30.37, 69.34], zoom_start=4.5, tiles='OpenStreetMap')\n",
    "\n",
    "#Import Google Drive and mount the entire drive\n",
    "#From google.colab import drive\n",
    "#Loading the dataset into the Pandas dataframe\n",
    "df = pd.read_csv('covidCSV.csv')\n",
    "df\n",
    "\n",
    "#Calculate total number of cases using a loop\n",
    "\n",
    "t = 0\n",
    "for c in df['Total Cases']:\n",
    "    t = int(c)+int(t)\n",
    "\n",
    "#Mark the circles on the map and display the map\n",
    "\n",
    "for city, lat, long, tc, de, re, ac in zip(list(df['City']), list(df['Latitude']), list(df['Longitude']), list(df['Total Cases']), list(df['Deaths']), list(df['Recoveries']), list(df['Active Cases'])):\n",
    "    folium.CircleMarker(location=[lat, long],\n",
    "                        radius=(tc/t)*100,\n",
    "                        color='red',\n",
    "                        fill=False,\n",
    "                        fill_color='blue').add_to(pakistan_map)\n",
    "\n",
    "    xyz = '<strong>city:  ' + city + '</strong><br>' + 'Total Cases: ' + \\\n",
    "        str(tc) + '<br>' + 'Deaths: ' + str(de) + '<br>' + \\\n",
    "        'Recoveries: ' + str(re) + '<br>' + 'Active Cases: ' + str(ac)\n",
    "        \n",
    "    iframe = folium.IFrame(xyz, width=200, height=150)\n",
    "    popupData = folium.Popup(iframe, max_width=500)\n",
    "    folium.Marker(location=[lat, long], popup=popupData).add_to(pakistan_map)\n",
    "\n",
    "pakistan_map"
   ]
  }
 ],
 "metadata": {
  "kernelspec": {
   "display_name": "Python 3.10.7 64-bit",
   "language": "python",
   "name": "python3"
  },
  "language_info": {
   "name": "python",
   "version": "3.10.7"
  },
  "orig_nbformat": 4,
  "vscode": {
   "interpreter": {
    "hash": "6e543d3b4df1f0849e1abef2722baf038a3f41b5295edff6eb18b9a849ea7456"
   }
  }
 },
 "nbformat": 4,
 "nbformat_minor": 2
}
