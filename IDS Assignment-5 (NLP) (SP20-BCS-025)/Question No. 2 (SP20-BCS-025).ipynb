{
 "cells": [
  {
   "cell_type": "code",
   "execution_count": 16,
   "metadata": {},
   "outputs": [],
   "source": [
    "import numpy as np\n",
    "from sklearn.feature_extraction.text import CountVectorizer\n",
    "from sklearn.metrics.pairwise import cosine_similarity\n",
    "from sklearn.feature_extraction.text import CountVectorizer"
   ]
  },
  {
   "cell_type": "code",
   "execution_count": 17,
   "metadata": {},
   "outputs": [],
   "source": [
    "vectorizer = CountVectorizer()\n",
    "docs = np.array(['sunshine state enjoy sunshine',\n",
    "                 'brown fox jump high, brown fox run',\n",
    "                 'sunshine state fox run fast'])"
   ]
  },
  {
   "cell_type": "code",
   "execution_count": 18,
   "metadata": {},
   "outputs": [
    {
     "name": "stdout",
     "output_type": "stream",
     "text": [
      "[[0 1 0 0 0 0 0 1 2]\n",
      " [2 0 0 2 1 1 1 0 0]\n",
      " [0 0 1 1 0 0 1 1 1]]\n"
     ]
    }
   ],
   "source": [
    "bag = vectorizer.fit_transform(docs)\n",
    "print(bag.toarray())"
   ]
  },
  {
   "cell_type": "code",
   "execution_count": 19,
   "metadata": {},
   "outputs": [],
   "source": [
    "\n",
    "docs = np.array(['sunshine state enjoy sunshine',\n",
    "                 'sunshine state fox run fast'])\n",
    "standardData = docs.reshape(1,-1)"
   ]
  },
  {
   "cell_type": "code",
   "execution_count": 20,
   "metadata": {},
   "outputs": [
    {
     "name": "stdout",
     "output_type": "stream",
     "text": [
      "[[1 0 0 0 1 2]\n",
      " [0 1 1 1 1 1]]\n"
     ]
    }
   ],
   "source": [
    "X = CountVectorizer().fit_transform(docs).toarray()\n",
    "print(X)"
   ]
  },
  {
   "cell_type": "code",
   "execution_count": 29,
   "metadata": {},
   "outputs": [
    {
     "name": "stdout",
     "output_type": "stream",
     "text": [
      "Cosine Similarity 1 and Document 3:\n",
      " 0.5477225575051662\n"
     ]
    }
   ],
   "source": [
    "\n",
    "cos_sim = cosine_similarity([X[0, :], X[1, :]])\n",
    "print('Cosine Similarity 1 and Document 3:\\n',cos_sim[0,1])"
   ]
  }
 ],
 "metadata": {
  "kernelspec": {
   "display_name": "Python 3",
   "language": "python",
   "name": "python3"
  },
  "language_info": {
   "codemirror_mode": {
    "name": "ipython",
    "version": 3
   },
   "file_extension": ".py",
   "mimetype": "text/x-python",
   "name": "python",
   "nbconvert_exporter": "python",
   "pygments_lexer": "ipython3",
   "version": "3.11.0 (main, Oct 24 2022, 18:26:48) [MSC v.1933 64 bit (AMD64)]"
  },
  "orig_nbformat": 4,
  "vscode": {
   "interpreter": {
    "hash": "c261aea317cc0286b3b3261fbba9abdec21eaa57589985bb7a274bf54d6cc0a7"
   }
  }
 },
 "nbformat": 4,
 "nbformat_minor": 2
}
